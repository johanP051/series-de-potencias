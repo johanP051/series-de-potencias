{
 "cells": [
  {
   "cell_type": "code",
   "execution_count": 17,
   "id": "09741262",
   "metadata": {},
   "outputs": [
    {
     "name": "stdout",
     "output_type": "stream",
     "text": [
      "\n",
      "Aproximación con series de potencias para e^20.0:\n",
      " Suma parcial: 485165193.0670548\n",
      " Valor real con math.exp(): 485165195.4097903\n"
     ]
    }
   ],
   "source": [
    "import math\n",
    "def serie_exponencial(x):\n",
    "    suma_parcial = 0\n",
    "    for n in range(0, 50 + 1):\n",
    "        suma_parcial += (x**n)/(math.factorial(n))\n",
    "    return suma_parcial\n",
    "\n",
    "x = float(input(\"Inserte el valor de x para e^x: \"))\n",
    "\n",
    "suma_parcial = serie_exponencial(x)\n",
    "exponencial_math = math.exp(x)\n",
    "\n",
    "print(f\"\\nAproximación con series de potencias para e^{x}:\\n Suma parcial: {suma_parcial}\\n Valor real con math.exp(): {exponencial_math}\")"
   ]
  },
  {
   "cell_type": "code",
   "execution_count": null,
   "id": "224c5a31",
   "metadata": {},
   "outputs": [
    {
     "name": "stdout",
     "output_type": "stream",
     "text": [
      "\n",
      "Aproximación con series de potencias para x = 20.0:\n",
      " Serie 1: 2.3728671843270553e+63\n",
      " Serie 2: 4.750953408603895e+61\n"
     ]
    }
   ],
   "source": [
    "def serie_1(x):\n",
    "    suma_parcial = 0\n",
    "    for n in range(1, 50 + 1):\n",
    "        suma_parcial += (x**n)/(n)\n",
    "    return suma_parcial\n",
    "\n",
    "def serie_2(x):\n",
    "    suma_parcial = 0\n",
    "    for n in range(1, 50 + 1):\n",
    "        suma_parcial += (x**n)/(n**2)\n",
    "    return suma_parcial\n",
    "\n",
    "x = float(input(\"Inserte el valor de x: \"))\n",
    "\n",
    "primera_serie = serie_1(x)\n",
    "segunda_serie = serie_2(x)\n",
    "\n",
    "print(f\"\\nAproximación con series de potencias para x = {x}:\\n Serie 1: {primera_serie}\\n Serie 2: {segunda_serie}\")"
   ]
  }
 ],
 "metadata": {
  "kernelspec": {
   "display_name": "Python 3",
   "language": "python",
   "name": "python3"
  },
  "language_info": {
   "codemirror_mode": {
    "name": "ipython",
    "version": 3
   },
   "file_extension": ".py",
   "mimetype": "text/x-python",
   "name": "python",
   "nbconvert_exporter": "python",
   "pygments_lexer": "ipython3",
   "version": "3.12.3"
  }
 },
 "nbformat": 4,
 "nbformat_minor": 5
}
